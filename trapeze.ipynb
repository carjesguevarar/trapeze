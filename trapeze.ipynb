{
 "cells": [
  {
   "cell_type": "markdown",
   "metadata": {},
   "source": [
    "# Recursos necesarios"
   ]
  },
  {
   "cell_type": "code",
   "execution_count": 1,
   "metadata": {},
   "outputs": [],
   "source": [
    "inter = []\n",
    "\n",
    "\n",
    "def f(x):\n",
    "    \"\"\"\n",
    "    Dado un punto 'x', evalua la función.\n",
    "    :param x: Punto a evaluar.\n",
    "    :return: Valor numérico de la función en el punto dado.\n",
    "    \"\"\"\n",
    "    return x/((x + 1)*(x + 2))\n",
    "\n",
    "\n",
    "def divinter(a, b, n):\n",
    "    \"\"\"\n",
    "    Dado el límite inferior y superior de un intervalo divide este en 'n' segmentos iguales.\n",
    "    :param a: Límite inferior.\n",
    "    :param b: Límite superior.\n",
    "    :param n: Cantidad de segmentos.\n",
    "    :return: None.\n",
    "    \"\"\"\n",
    "    ha = h(a, b, n)\n",
    "    inter.append(a)\n",
    "    for i in range(n):\n",
    "        inter.append(inter[len(inter) - 1] + ha)\n",
    "\n",
    "\n",
    "def h(a, b, n):\n",
    "    \"\"\"\n",
    "    Dado los valores de 'a', 'b' y 'n', evalua la función 'h'.\n",
    "    :param a: Límite inferior.\n",
    "    :param b: Límite superior\n",
    "    :param n: Cantidad de sub-intervalor.\n",
    "    :return: Diferencia de el superior al inferior dividido entre dos.\n",
    "    \"\"\"\n",
    "    return (b - a)/n"
   ]
  },
  {
   "cell_type": "markdown",
   "metadata": {},
   "source": [
    "# Método del Trapesoide simple"
   ]
  },
  {
   "cell_type": "code",
   "execution_count": 2,
   "metadata": {},
   "outputs": [],
   "source": [
    "def trapezesimple(a, b):\n",
    "    \"\"\"\n",
    "    Método del Trapesio simple.\n",
    "    :param a: Límite inferior.\n",
    "    :param b: Límite superior\n",
    "    :return: Valor de la aproximación de la integral.\n",
    "    \"\"\"\n",
    "    return (h(a, b, 2))*(f(a) + f(b))"
   ]
  },
  {
   "cell_type": "markdown",
   "metadata": {},
   "source": [
    "# Método de Trapesoides compuestos"
   ]
  },
  {
   "cell_type": "code",
   "execution_count": 3,
   "metadata": {},
   "outputs": [],
   "source": [
    "def trapezecompound(a, b, n):\n",
    "    \"\"\"\n",
    "    Método de los Trapesoides compuesto.\n",
    "    :param a: Límite inferior.\n",
    "    :param b: Límite superior\n",
    "    :param n: Cantidad de subintervalor.\n",
    "    :return: Valor de la aproximación de la integral.\n",
    "    \"\"\"\n",
    "    divinter(a, b, n)\n",
    "    p = 0\n",
    "    for i in range(1, n):\n",
    "        p = p + f(inter[i])\n",
    "    return (h(a, b, n)/2)*(f(a) + 2*p + f(b))"
   ]
  },
  {
   "cell_type": "markdown",
   "metadata": {},
   "source": [
    "# Resultados de la aproximación"
   ]
  },
  {
   "cell_type": "markdown",
   "metadata": {},
   "source": [
    "## Simple:"
   ]
  },
  {
   "cell_type": "code",
   "execution_count": 4,
   "metadata": {},
   "outputs": [
    {
     "data": {
      "text/plain": [
       "0.08333333333333333"
      ]
     },
     "execution_count": 4,
     "metadata": {},
     "output_type": "execute_result"
    }
   ],
   "source": [
    "trapezesimple(0, 1)"
   ]
  },
  {
   "cell_type": "markdown",
   "metadata": {},
   "source": [
    "## Compuesta"
   ]
  },
  {
   "cell_type": "code",
   "execution_count": 5,
   "metadata": {},
   "outputs": [
    {
     "data": {
      "text/plain": [
       "0.11716985201051025"
      ]
     },
     "execution_count": 5,
     "metadata": {},
     "output_type": "execute_result"
    }
   ],
   "source": [
    "trapezecompound(0, 1, 8)"
   ]
  }
 ],
 "metadata": {
  "kernelspec": {
   "display_name": "Python 2",
   "language": "python",
   "name": "python2"
  },
  "language_info": {
   "codemirror_mode": {
    "name": "ipython",
    "version": 2
   },
   "file_extension": ".py",
   "mimetype": "text/x-python",
   "name": "python",
   "nbconvert_exporter": "python",
   "pygments_lexer": "ipython2",
   "version": "2.7.6"
  }
 },
 "nbformat": 4,
 "nbformat_minor": 0
}
